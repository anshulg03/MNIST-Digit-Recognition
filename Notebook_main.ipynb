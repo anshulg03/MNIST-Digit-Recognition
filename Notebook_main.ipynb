{
 "cells": [
  {
   "cell_type": "code",
   "execution_count": 6,
   "metadata": {
    "collapsed": true,
    "deletable": true,
    "editable": true
   },
   "outputs": [],
   "source": [
    "import pandas as pd\n",
    "import numpy as np\n",
    "import gzip\n",
    "import matplotlib.pyplot as plt"
   ]
  },
  {
   "cell_type": "code",
   "execution_count": 75,
   "metadata": {
    "collapsed": true,
    "deletable": true,
    "editable": true
   },
   "outputs": [],
   "source": [
    "def load(path_img, path_lbl):\n",
    "  from array import array\n",
    "  import struct\n",
    "\n",
    "  with gzip.open(path_lbl, 'rb') as file:\n",
    "    magic, size = struct.unpack(\">II\", file.read(8))\n",
    "    if magic != 2049:\n",
    "      raise ValueError('Magic number mismatch, expected 2049, got {0}'.format(magic))\n",
    "    labels = array(\"B\", file.read())\n",
    "\n",
    "  with gzip.open(path_img, 'rb') as file:\n",
    "    magic, size, rows, cols = struct.unpack(\">IIII\", file.read(16))\n",
    "    if magic != 2051:\n",
    "      raise ValueError('Magic number mismatch, expected 2051, got {0}'.format(magic))\n",
    "    image_data = array(\"B\", file.read())\n",
    "\n",
    "  images = []\n",
    "  for i in range(size): images.append([0] * rows * cols)\n",
    "  for i in range(size): images[i] = np.array(image_data[i * rows * cols:(i + 1) * rows * cols]).reshape(28,28)[::2,::2].reshape(-1)\n",
    "  return pd.DataFrame(images), pd.Series(labels)\n"
   ]
  },
  {
   "cell_type": "code",
   "execution_count": 77,
   "metadata": {
    "collapsed": true,
    "deletable": true,
    "editable": true
   },
   "outputs": [],
   "source": [
    "def peekData(X_train):\n",
    "  # The 'targets' or labels are stored in y. The 'samples' or data is stored in X\n",
    "  print (\"Peeking your data...\")\n",
    "  fig = plt.figure()\n",
    "\n",
    "  cnt = 0\n",
    "  for col in range(5):\n",
    "    for row in range(10):\n",
    "      plt.subplot(5, 10, cnt + 1)\n",
    "      plt.imshow(X_train.ix[cnt,:].values.reshape(14,14), cmap=plt.cm.gray_r, interpolation='nearest')\n",
    "      plt.axis('off')\n",
    "      cnt += 1\n",
    "  # fig.set_tight_layout(True)\n",
    "  plt.show()"
   ]
  },
  {
   "cell_type": "code",
   "execution_count": 76,
   "metadata": {
    "collapsed": false,
    "deletable": true,
    "editable": true
   },
   "outputs": [],
   "source": [
    "# To check for a random number\n",
    "def pred_check(a):\n",
    "    true_1000th_test_value = y_test[a]\n",
    "    \n",
    "    print (a, \"th test label: \", true_1000th_test_value)\n",
    "    \n",
    "    guess_1000th_test_value = model.predict(X_test.iloc[[a]])\n",
    "    print (a,\"th test prediction: \", guess_1000th_test_value)\n",
    "    plt.imshow(X_test.ix[a,:].values.reshape(14,14), cmap=plt.cm.gray_r, interpolation='nearest')\n",
    "    plt.show()"
   ]
  },
  {
   "cell_type": "code",
   "execution_count": 78,
   "metadata": {
    "collapsed": false,
    "deletable": true,
    "editable": true
   },
   "outputs": [],
   "source": [
    "dir = 'C:/Users/anshangu/Documents/GitHub/Python_LogisticReg/DataScience-with-Python/MNIST Digit Recognition/'\n",
    "X_train, y_train = load(dir + 'train-images-idx3-ubyte.gz', dir + 'train-labels-idx1-ubyte.gz')\n",
    "X_test, y_test = load(dir + 't10k-images-idx3-ubyte.gz', dir + 't10k-labels-idx1-ubyte.gz')"
   ]
  },
  {
   "cell_type": "code",
   "execution_count": 73,
   "metadata": {
    "collapsed": false,
    "deletable": true,
    "editable": true
   },
   "outputs": [
    {
     "name": "stdout",
     "output_type": "stream",
     "text": [
      "Peeking your data...\n"
     ]
    },
    {
     "data": {
      "image/png": "[encoded data removed]",
      "text/plain": [
       "<matplotlib.figure.Figure at 0x25383932d30>"
      ]
     },
     "metadata": {},
     "output_type": "display_data"
    }
   ],
   "source": [
    "peekData(X_train)"
   ]
  },
  {
   "cell_type": "code",
   "execution_count": 127,
   "metadata": {
    "collapsed": false,
    "deletable": true,
    "editable": true
   },
   "outputs": [
    {
     "name": "stdout",
     "output_type": "stream",
     "text": [
      "Training KNN Classifier...\n",
      "Time taken to fit in  mins  0.34963690042495726\n",
      "Scoring KNN model....\n",
      "KNN Score \n",
      " 0.9613\n",
      "Time taken to score in  mins  3.6237903952598574\n"
     ]
    }
   ],
   "source": [
    "from sklearn.neighbors import KNeighborsClassifier\n",
    "start_time = time.time()\n",
    "print('Training KNN Classifier...')\n",
    "modelKNN = KNeighborsClassifier(n_neighbors=7)\n",
    "modelKNN.fit(X_train, y_train)\n",
    "print('Time taken to fit in  mins ', (time.time() - start_time)/60)\n",
    "start_time = time.time()\n",
    "print('Scoring KNN model....')\n",
    "score = modelKNN.score(X_test, y_test)\n",
    "print('KNN Score \\n', score)\n",
    "print('Time taken to score in  mins ', (time.time() - start_time)/60)"
   ]
  },
  {
   "cell_type": "code",
   "execution_count": 122,
   "metadata": {
    "collapsed": false,
    "deletable": true,
    "editable": true
   },
   "outputs": [
    {
     "name": "stdout",
     "output_type": "stream",
     "text": [
      "4128 th test label:  3\n",
      "4128 th test prediction:  [3]\n"
     ]
    },
    {
     "data": {
      "image/png": "[encoded data removed]",
      "text/plain": [
       "<matplotlib.figure.Figure at 0x2538049ac50>"
      ]
     },
     "metadata": {},
     "output_type": "display_data"
    }
   ],
   "source": [
    "from random import randint\n",
    "pred_check(randint(1,10000))"
   ]
  },
  {
   "cell_type": "code",
   "execution_count": 105,
   "metadata": {
    "collapsed": false,
    "deletable": true,
    "editable": true
   },
   "outputs": [
    {
     "name": "stdout",
     "output_type": "stream",
     "text": [
      "Training SVC Classifier...\n",
      "Time taken to fit in  mins  9.363362447420757\n",
      "Scoring model....\n",
      "SVC Score \n",
      " 0.9735\n",
      "Time taken to score in  mins  0.353953484694163\n"
     ]
    }
   ],
   "source": [
    "import time\n",
    "from sklearn.svm import SVC\n",
    "model = SVC(kernel = 'poly', cache_size = 70000)\n",
    "start_time = time.time()\n",
    "print('Training SVC Classifier...')\n",
    "model.fit(X_train, y_train)\n",
    "print('Time taken to fit in  mins ', (time.time() - start_time)/60)\n",
    "start_time = time.time()\n",
    "print('Scoring model....')\n",
    "score = model.score(X_test,y_test)\n",
    "print('SVC Score \\n', score)\n",
    "print('Time taken to score in  mins ', (time.time() - start_time)/60)"
   ]
  },
  {
   "cell_type": "code",
   "execution_count": 125,
   "metadata": {
    "collapsed": false
   },
   "outputs": [
    {
     "data": {
      "text/plain": [
       "['finalized_model.sav']"
      ]
     },
     "execution_count": 125,
     "metadata": {},
     "output_type": "execute_result"
    }
   ],
   "source": [
    "from sklearn.externals import joblib\n",
    "fileName = 'finalized_model.sav'\n",
    "joblib.dump(model, fileName)"
   ]
  }
 ],
 "metadata": {
  "kernelspec": {
   "display_name": "Python [default]",
   "language": "python",
   "name": "python3"
  },
  "language_info": {
   "codemirror_mode": {
    "name": "ipython",
    "version": 3
   },
   "file_extension": ".py",
   "mimetype": "text/x-python",
   "name": "python",
   "nbconvert_exporter": "python",
   "pygments_lexer": "ipython3",
   "version": "3.5.3"
  }
 },
 "nbformat": 4,
 "nbformat_minor": 2
}
